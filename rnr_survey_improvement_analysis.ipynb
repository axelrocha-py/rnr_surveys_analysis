{
 "cells": [
  {
   "cell_type": "markdown",
   "metadata": {},
   "source": [
    "<h1><center>Survey Improvement Analysis</center></h1>\n",
    "<center>Rock n Ribs</center>"
   ]
  },
  {
   "cell_type": "code",
   "execution_count": 1,
   "metadata": {},
   "outputs": [],
   "source": [
    "import pandas as pd\n",
    "import numpy as np\n",
    "import matplotlib.pyplot as plt\n",
    "import random\n",
    "\n",
    "%matplotlib inline"
   ]
  },
  {
   "cell_type": "code",
   "execution_count": 2,
   "metadata": {},
   "outputs": [
    {
     "data": {
      "text/html": [
       "<div>\n",
       "<style scoped>\n",
       "    .dataframe tbody tr th:only-of-type {\n",
       "        vertical-align: middle;\n",
       "    }\n",
       "\n",
       "    .dataframe tbody tr th {\n",
       "        vertical-align: top;\n",
       "    }\n",
       "\n",
       "    .dataframe thead th {\n",
       "        text-align: right;\n",
       "    }\n",
       "</style>\n",
       "<table border=\"1\" class=\"dataframe\">\n",
       "  <thead>\n",
       "    <tr style=\"text-align: right;\">\n",
       "      <th></th>\n",
       "      <th>respondent_id</th>\n",
       "      <th>collector_id</th>\n",
       "      <th>date_created</th>\n",
       "      <th>date_modified</th>\n",
       "      <th>ip_address</th>\n",
       "      <th>NombreCliente</th>\n",
       "      <th>Email</th>\n",
       "      <th>Celular</th>\n",
       "      <th>Franquicia</th>\n",
       "      <th>Recomendacion</th>\n",
       "      <th>...</th>\n",
       "      <th>TiempoSerCliente</th>\n",
       "      <th>MedCon</th>\n",
       "      <th>OtroMedCon</th>\n",
       "      <th>AtencionMesero</th>\n",
       "      <th>NomMesero</th>\n",
       "      <th>AtencionGerente</th>\n",
       "      <th>NombreGerente</th>\n",
       "      <th>DeseoFranq</th>\n",
       "      <th>CiudadDeseoFranq</th>\n",
       "      <th>Comentarios</th>\n",
       "    </tr>\n",
       "  </thead>\n",
       "  <tbody>\n",
       "    <tr>\n",
       "      <th>0</th>\n",
       "      <td>1.145620e+10</td>\n",
       "      <td>249027193.0</td>\n",
       "      <td>03/29/2020 01:13:21 AM</td>\n",
       "      <td>03/29/2020 04:09:53 AM</td>\n",
       "      <td>189.183.129.231</td>\n",
       "      <td>Armando Nigo</td>\n",
       "      <td>nigoarmando@gmail.com</td>\n",
       "      <td>4441468605</td>\n",
       "      <td>San Luis Potosí, Slp.</td>\n",
       "      <td>10</td>\n",
       "      <td>...</td>\n",
       "      <td>Seis meses a un año</td>\n",
       "      <td>Publicidad</td>\n",
       "      <td>NaN</td>\n",
       "      <td>Bueno</td>\n",
       "      <td>Gerardo</td>\n",
       "      <td>Sí</td>\n",
       "      <td>José Luis</td>\n",
       "      <td>SI</td>\n",
       "      <td>NaN</td>\n",
       "      <td>No</td>\n",
       "    </tr>\n",
       "    <tr>\n",
       "      <th>1</th>\n",
       "      <td>1.145600e+10</td>\n",
       "      <td>249027193.0</td>\n",
       "      <td>03/29/2020 12:37:27 AM</td>\n",
       "      <td>03/29/2020 01:12:43 AM</td>\n",
       "      <td>189.183.129.231</td>\n",
       "      <td>Liza</td>\n",
       "      <td>liza.diazdeleon@hotmail.com</td>\n",
       "      <td>NaN</td>\n",
       "      <td>San Luis Potosí, Slp.</td>\n",
       "      <td>9</td>\n",
       "      <td>...</td>\n",
       "      <td>Esta es mi primera visita</td>\n",
       "      <td>Lo ví</td>\n",
       "      <td>NaN</td>\n",
       "      <td>Bueno</td>\n",
       "      <td>Alejandro</td>\n",
       "      <td>No</td>\n",
       "      <td>No se</td>\n",
       "      <td>NO</td>\n",
       "      <td>NaN</td>\n",
       "      <td>No</td>\n",
       "    </tr>\n",
       "    <tr>\n",
       "      <th>2</th>\n",
       "      <td>1.145595e+10</td>\n",
       "      <td>249027193.0</td>\n",
       "      <td>03/29/2020 12:20:21 AM</td>\n",
       "      <td>03/29/2020 12:33:51 AM</td>\n",
       "      <td>189.183.129.231</td>\n",
       "      <td>Beatriz Martínez</td>\n",
       "      <td>beatrizmh.bh@gmail..com</td>\n",
       "      <td>4444894280</td>\n",
       "      <td>San Luis Potosí, Slp.</td>\n",
       "      <td>10</td>\n",
       "      <td>...</td>\n",
       "      <td>Esta es mi primera visita</td>\n",
       "      <td>Redes sociales (facebook, twitter, instagram)</td>\n",
       "      <td>NaN</td>\n",
       "      <td>Excelente</td>\n",
       "      <td>No recuerdo</td>\n",
       "      <td>No</td>\n",
       "      <td>Desconozco</td>\n",
       "      <td>NO</td>\n",
       "      <td>NaN</td>\n",
       "      <td>Deberían de poner un escenario y un día a la s...</td>\n",
       "    </tr>\n",
       "  </tbody>\n",
       "</table>\n",
       "<p>3 rows × 23 columns</p>\n",
       "</div>"
      ],
      "text/plain": [
       "   respondent_id  collector_id            date_created  \\\n",
       "0   1.145620e+10   249027193.0  03/29/2020 01:13:21 AM   \n",
       "1   1.145600e+10   249027193.0  03/29/2020 12:37:27 AM   \n",
       "2   1.145595e+10   249027193.0  03/29/2020 12:20:21 AM   \n",
       "\n",
       "            date_modified       ip_address     NombreCliente  \\\n",
       "0  03/29/2020 04:09:53 AM  189.183.129.231      Armando Nigo   \n",
       "1  03/29/2020 01:12:43 AM  189.183.129.231              Liza   \n",
       "2  03/29/2020 12:33:51 AM  189.183.129.231  Beatriz Martínez   \n",
       "\n",
       "                         Email     Celular             Franquicia  \\\n",
       "0        nigoarmando@gmail.com  4441468605  San Luis Potosí, Slp.   \n",
       "1  liza.diazdeleon@hotmail.com         NaN  San Luis Potosí, Slp.   \n",
       "2      beatrizmh.bh@gmail..com  4444894280  San Luis Potosí, Slp.   \n",
       "\n",
       "   Recomendacion  ...           TiempoSerCliente  \\\n",
       "0             10  ...        Seis meses a un año   \n",
       "1              9  ...  Esta es mi primera visita   \n",
       "2             10  ...  Esta es mi primera visita   \n",
       "\n",
       "                                          MedCon OtroMedCon AtencionMesero  \\\n",
       "0                                     Publicidad        NaN          Bueno   \n",
       "1                                          Lo ví        NaN          Bueno   \n",
       "2  Redes sociales (facebook, twitter, instagram)        NaN      Excelente   \n",
       "\n",
       "     NomMesero AtencionGerente NombreGerente DeseoFranq CiudadDeseoFranq  \\\n",
       "0      Gerardo              Sí     José Luis         SI              NaN   \n",
       "1    Alejandro              No         No se         NO              NaN   \n",
       "2  No recuerdo              No    Desconozco         NO              NaN   \n",
       "\n",
       "                                         Comentarios  \n",
       "0                                                 No  \n",
       "1                                               No    \n",
       "2  Deberían de poner un escenario y un día a la s...  \n",
       "\n",
       "[3 rows x 23 columns]"
      ]
     },
     "execution_count": 2,
     "metadata": {},
     "output_type": "execute_result"
    }
   ],
   "source": [
    "df_survey = pd.read_csv('./rnr_survey_master_table.csv')\n",
    "df_survey.drop(['Unnamed: 0'],axis=1, inplace=True)\n",
    "df_survey[0:3]"
   ]
  },
  {
   "cell_type": "code",
   "execution_count": 3,
   "metadata": {},
   "outputs": [
    {
     "data": {
      "text/plain": [
       "Index(['respondent_id', 'collector_id', 'date_created', 'date_modified',\n",
       "       'ip_address', 'NombreCliente', 'Email', 'Celular', 'Franquicia',\n",
       "       'Recomendacion', 'Comida', 'Bebida', 'CalidadPrecio',\n",
       "       'TiempoSerCliente', 'MedCon', 'OtroMedCon', 'AtencionMesero',\n",
       "       'NomMesero', 'AtencionGerente', 'NombreGerente', 'DeseoFranq',\n",
       "       'CiudadDeseoFranq', 'Comentarios'],\n",
       "      dtype='object')"
      ]
     },
     "execution_count": 3,
     "metadata": {},
     "output_type": "execute_result"
    }
   ],
   "source": [
    "df_survey.columns"
   ]
  },
  {
   "cell_type": "markdown",
   "metadata": {},
   "source": [
    "According with our dataset, we can measure some metrics. On this notebook we are going to analyze this metrics from October 2019:\n",
    "    1. Franchise customer distribution\n",
    "    2. Recommendation rate\n",
    "    3. Food & Drink average\n",
    "    4. Price-Quality rate\n",
    "    5. Client retention\n",
    "    6. Advertising media effectiveness"
   ]
  },
  {
   "cell_type": "code",
   "execution_count": 4,
   "metadata": {},
   "outputs": [
    {
     "data": {
      "text/plain": [
       "Timestamp('2020-03-29 01:13:21')"
      ]
     },
     "execution_count": 4,
     "metadata": {},
     "output_type": "execute_result"
    }
   ],
   "source": [
    "# Firstly we must convert to datetime format the column date_created\n",
    "df_survey['date_created'] = pd.to_datetime(df_survey['date_created'])\n",
    "df_survey['date_created'][0]"
   ]
  },
  {
   "cell_type": "code",
   "execution_count": 5,
   "metadata": {},
   "outputs": [],
   "source": [
    "# Create October subset\n",
    "month_in = pd.to_datetime('2019-10-01 00:00:00')\n",
    "month_fn = pd.to_datetime('2019-10-31 23:59:59')\n",
    "df_oct_2019 = df_survey[(df_survey['date_created']>=month_in)&(df_survey['date_created']<=month_fn)]\n",
    "\n",
    "# Create November subset\n",
    "month_in = pd.to_datetime('2019-11-01 00:00:00')\n",
    "month_fn = pd.to_datetime('2019-11-30 23:59:59')\n",
    "df_nov_2019 = df_survey[(df_survey['date_created']>=month_in)&(df_survey['date_created']<=month_fn)]\n",
    "\n",
    "# Create December subset\n",
    "month_in = pd.to_datetime('2019-12-01 00:00:00')\n",
    "month_fn = pd.to_datetime('2019-12-31 23:59:59')\n",
    "df_dec_2019 = df_survey[(df_survey['date_created']>=month_in)&(df_survey['date_created']<=month_fn)]\n",
    "\n",
    "# Create January subset\n",
    "month_in = pd.to_datetime('2020-01-01 00:00:00')\n",
    "month_fn = pd.to_datetime('2020-01-31 23:59:59')\n",
    "df_jan_2020 = df_survey[(df_survey['date_created']>=month_in)&(df_survey['date_created']<=month_fn)]\n",
    "\n",
    "# Create February subset\n",
    "month_in = pd.to_datetime('2019-02-01 00:00:00')\n",
    "month_fn = pd.to_datetime('2019-02-28 23:59:59')\n",
    "df_feb_2020 = df_survey[(df_survey['date_created']>=month_in)&(df_survey['date_created']<=month_fn)]\n",
    "\n",
    "# Create March subset\n",
    "month_in = pd.to_datetime('2019-03-01 00:00:00')\n",
    "month_fn = pd.to_datetime('2019-03-31 23:59:59')\n",
    "df_mar_2020 = df_survey[(df_survey['date_created']>=month_in)&(df_survey['date_created']<=month_fn)]"
   ]
  },
  {
   "cell_type": "markdown",
   "metadata": {},
   "source": [
    "<h2>1. Franchise customer distribution</h2>"
   ]
  },
  {
   "cell_type": "code",
   "execution_count": 6,
   "metadata": {},
   "outputs": [
    {
     "data": {
      "text/plain": [
       "respondent_id         0\n",
       "collector_id          0\n",
       "date_created          0\n",
       "date_modified         0\n",
       "ip_address            0\n",
       "NombreCliente        94\n",
       "Email               135\n",
       "Celular             154\n",
       "Franquicia            2\n",
       "Recomendacion         0\n",
       "Comida                3\n",
       "Bebida                0\n",
       "CalidadPrecio         1\n",
       "TiempoSerCliente     18\n",
       "MedCon                5\n",
       "OtroMedCon          328\n",
       "AtencionMesero        3\n",
       "NomMesero           153\n",
       "AtencionGerente     335\n",
       "NombreGerente       335\n",
       "DeseoFranq            0\n",
       "CiudadDeseoFranq    304\n",
       "Comentarios         102\n",
       "dtype: int64"
      ]
     },
     "execution_count": 6,
     "metadata": {},
     "output_type": "execute_result"
    }
   ],
   "source": [
    "df_oct_2019.isna().sum()"
   ]
  },
  {
   "cell_type": "code",
   "execution_count": 7,
   "metadata": {},
   "outputs": [
    {
     "data": {
      "text/plain": [
       "Franquicia\n",
       "Bernardo Quintana, Qro.           452\n",
       "Jardines de la Hacienda, Qro.     345\n",
       "Juriquilla, Qro.                  165\n",
       "León, Gto.                        258\n",
       "San Juan del Río, Qro.            285\n",
       "Sendero, Qro.                    1515\n",
       "Name: Recomendacion, dtype: int64"
      ]
     },
     "execution_count": 7,
     "metadata": {},
     "output_type": "execute_result"
    }
   ],
   "source": [
    "# Recomendacion is a column without NaN values so we must use to count customers\n",
    "df_oct_2019.groupby('Franquicia').sum()['Recomendacion']"
   ]
  },
  {
   "cell_type": "code",
   "execution_count": 8,
   "metadata": {},
   "outputs": [],
   "source": [
    "ber_cust = df_oct_2019.groupby('Franquicia').sum()['Recomendacion'][0]\n",
    "jar_cust = df_oct_2019.groupby('Franquicia').sum()['Recomendacion'][1]\n",
    "jur_cust = df_oct_2019.groupby('Franquicia').sum()['Recomendacion'][2]\n",
    "ln_cust = df_oct_2019.groupby('Franquicia').sum()['Recomendacion'][3]\n",
    "sjr_cust = df_oct_2019.groupby('Franquicia').sum()['Recomendacion'][4]\n",
    "sen_cust = df_oct_2019.groupby('Franquicia').sum()['Recomendacion'][5]"
   ]
  },
  {
   "cell_type": "code",
   "execution_count": 9,
   "metadata": {},
   "outputs": [
    {
     "data": {
      "image/png": "[encoded data removed]",
      "text/plain": [
       "<Figure size 720x576 with 1 Axes>"
      ]
     },
     "metadata": {},
     "output_type": "display_data"
    },
    {
     "name": "stdout",
     "output_type": "stream",
     "text": [
      "Bernardo Quintana, Qro.: 452\n",
      "Jardines de la Hacienda, Qro.: 345\n",
      "Juriquilla, Qro.: 165\n",
      "León, Gto.: 258\n",
      "San Juan del Río, Qro.: 285\n",
      "Sendero, Qro.: 1515\n"
     ]
    }
   ],
   "source": [
    "# Franchise customer Pie chart\n",
    "fran = ['Bernardo Quintana, Qro.', \n",
    "        'Jardines de la Hacienda, Qro.', \n",
    "       'Juriquilla, Qro.',\n",
    "       'León, Gto.',\n",
    "       'San Juan del Río, Qro.',\n",
    "       'Sendero, Qro.']\n",
    "customer_quan = [ber_cust, jar_cust, jur_cust, ln_cust, sjr_cust, sen_cust] \n",
    "colors = ['#00A0B0','#6A4A3C', '#CC333F', '#EB6841', '#EDC951', '#CC333F']\n",
    "\n",
    "plt.figure(figsize=(10,8))\n",
    "plt.pie(customer_quan, labels=fran, colors=colors, shadow=True, autopct='%1.1f%%')\n",
    "\n",
    "plt.title('October Customer Distribution')\n",
    "plt.show()\n",
    "\n",
    "for i in range(0, len(customer_quan)):\n",
    "    print(f'{fran[i]}: {customer_quan[i]}')"
   ]
  },
  {
   "cell_type": "markdown",
   "metadata": {},
   "source": [
    "<h2>2. Recommendation rate</h2>"
   ]
  },
  {
   "cell_type": "code",
   "execution_count": 10,
   "metadata": {},
   "outputs": [
    {
     "data": {
      "image/png": "[encoded data removed]",
      "text/plain": [
       "<Figure size 1152x504 with 1 Axes>"
      ]
     },
     "metadata": {
      "needs_background": "light"
     },
     "output_type": "display_data"
    },
    {
     "data": {
      "text/plain": [
       "count    335.000000\n",
       "mean       9.074627\n",
       "std        1.389799\n",
       "min        0.000000\n",
       "25%        9.000000\n",
       "50%       10.000000\n",
       "75%       10.000000\n",
       "max       10.000000\n",
       "Name: Recomendacion, dtype: float64"
      ]
     },
     "execution_count": 10,
     "metadata": {},
     "output_type": "execute_result"
    }
   ],
   "source": [
    "# Recomendation Histogram\n",
    "recom = np.array(df_oct_2019['Recomendacion'])\n",
    "bins = list(range(2, 12, 1))\n",
    "\n",
    "plt.figure(figsize=(16,7))\n",
    "plt.hist(recom, bins, histtype='bar', rwidth=0.8, color='#00A0B0')\n",
    "\n",
    "plt.title('Recomendation Histogram')\n",
    "plt.ylabel('Frequency')\n",
    "plt.xlabel('Average')\n",
    "plt.grid(linewidth =0.5, linestyle='--')\n",
    "plt.axvline(np.mean(recom), color='red', linestyle='--', label='Mean')\n",
    "plt.axvline(np.mean(recom) + np.std(recom), color='green', linestyle='--', label='+1 std')\n",
    "plt.axvline(np.mean(recom) - np.std(recom), color='green', linestyle='--', label='-1 std')\n",
    "\n",
    "plt.legend(loc='best')\n",
    "plt.show()\n",
    "\n",
    "df_oct_2019['Recomendacion'].describe()"
   ]
  },
  {
   "cell_type": "markdown",
   "metadata": {},
   "source": [
    "According with the Empirical Rule, Rock n Ribs has 68% of his opinion range into a 8 to 10 average. This is a good average, but we need to know why the other customers rated us so low."
   ]
  },
  {
   "cell_type": "code",
   "execution_count": 11,
   "metadata": {},
   "outputs": [
    {
     "data": {
      "text/plain": [
       "Franquicia\n",
       "Bernardo Quintana, Qro.          39\n",
       "Jardines de la Hacienda, Qro.    18\n",
       "Juriquilla, Qro.                  6\n",
       "León, Gto.                       23\n",
       "San Juan del Río, Qro.            7\n",
       "Sendero, Qro.                    97\n",
       "Name: Recomendacion, dtype: int64"
      ]
     },
     "execution_count": 11,
     "metadata": {},
     "output_type": "execute_result"
    }
   ],
   "source": [
    "df_oct_2019[df_oct_2019['Recomendacion']<8].groupby('Franquicia').sum()['Recomendacion']"
   ]
  },
  {
   "cell_type": "code",
   "execution_count": 12,
   "metadata": {},
   "outputs": [
    {
     "data": {
      "text/plain": [
       "Franquicia\n",
       "Bernardo Quintana, Qro.           452\n",
       "Jardines de la Hacienda, Qro.     345\n",
       "Juriquilla, Qro.                  165\n",
       "León, Gto.                        258\n",
       "San Juan del Río, Qro.            285\n",
       "Sendero, Qro.                    1515\n",
       "Name: Recomendacion, dtype: int64"
      ]
     },
     "execution_count": 12,
     "metadata": {},
     "output_type": "execute_result"
    }
   ],
   "source": [
    "df_oct_2019.groupby('Franquicia').sum()['Recomendacion']"
   ]
  },
  {
   "cell_type": "code",
   "execution_count": 13,
   "metadata": {},
   "outputs": [
    {
     "data": {
      "image/png": "[encoded data removed]",
      "text/plain": [
       "<Figure size 1152x576 with 1 Axes>"
      ]
     },
     "metadata": {
      "needs_background": "light"
     },
     "output_type": "display_data"
    },
    {
     "name": "stdout",
     "output_type": "stream",
     "text": [
      "BQ : 0.0863\n",
      "JAR : 0.0522\n",
      "JUR : 0.0364\n",
      "LN : 0.0891\n",
      "SJR : 0.0246\n",
      "SEN : 0.064\n"
     ]
    }
   ],
   "source": [
    "# Low recomendation rate per Franchise\n",
    "lowrec_ber = df_oct_2019[df_oct_2019['Recomendacion']<8].groupby('Franquicia').sum()['Recomendacion'][0]\n",
    "lowrec_jar = df_oct_2019[df_oct_2019['Recomendacion']<8].groupby('Franquicia').sum()['Recomendacion'][1]\n",
    "lowrec_jur = df_oct_2019[df_oct_2019['Recomendacion']<8].groupby('Franquicia').sum()['Recomendacion'][2]\n",
    "lowrec_ln = df_oct_2019[df_oct_2019['Recomendacion']<8].groupby('Franquicia').sum()['Recomendacion'][3]\n",
    "lowrec_sjr = df_oct_2019[df_oct_2019['Recomendacion']<8].groupby('Franquicia').sum()['Recomendacion'][4]\n",
    "lowrec_sen = df_oct_2019[df_oct_2019['Recomendacion']<8].groupby('Franquicia').sum()['Recomendacion'][5]\n",
    "\n",
    "total_ber = df_oct_2019.groupby('Franquicia').sum()['Recomendacion'][0]\n",
    "total_jar = df_oct_2019.groupby('Franquicia').sum()['Recomendacion'][1]\n",
    "total_jur = df_oct_2019.groupby('Franquicia').sum()['Recomendacion'][2]\n",
    "total_ln = df_oct_2019.groupby('Franquicia').sum()['Recomendacion'][3]\n",
    "total_sjr = df_oct_2019.groupby('Franquicia').sum()['Recomendacion'][4]\n",
    "total_sen = df_oct_2019.groupby('Franquicia').sum()['Recomendacion'][5]\n",
    "\n",
    "lowrate_ber = lowrec_ber/total_ber\n",
    "lowrate_jar = lowrec_jar/total_jar\n",
    "lowrate_jur = lowrec_jur/total_jur\n",
    "lowrate_ln = lowrec_ln/total_ln\n",
    "lowrate_sjr = lowrec_sjr/total_sjr\n",
    "lowrate_sen = lowrec_sen/total_sen\n",
    "\n",
    "\n",
    "# Configuring a bar graph\n",
    "x = ['BQ', 'JAR', 'JUR', 'LN', 'SJR', 'SEN']\n",
    "y = [lowrate_ber, lowrate_jar, lowrate_jur, lowrate_ln, lowrate_sjr, lowrate_sen]\n",
    "\n",
    "plt.figure(figsize=(16,8))\n",
    "plt.bar(x, y, width=0.8, color=colors)\n",
    "\n",
    "plt.title('Ratio de No Recomendación')\n",
    "plt.ylabel('Porcentaje')\n",
    "\n",
    "plt.show()\n",
    "\n",
    "for i in range(0, len(x)):\n",
    "    print(f'{x[i]} : {round(y[i],4)}')"
   ]
  },
  {
   "cell_type": "markdown",
   "metadata": {},
   "source": [
    "We can look that Bernardo Quintana and León franchises have worst recomendation rates, in spite of the mayority bad recomendations come from Sendero. So we must analyze the comments existing."
   ]
  },
  {
   "cell_type": "code",
   "execution_count": 14,
   "metadata": {},
   "outputs": [
    {
     "data": {
      "text/plain": [
       "Franquicia\n",
       "Bernardo Quintana, Qro.           5\n",
       "Jardines de la Hacienda, Qro.     4\n",
       "Juriquilla, Qro.                  0\n",
       "León, Gto.                        4\n",
       "San Juan del Río, Qro.            0\n",
       "Sendero, Qro.                    15\n",
       "Name: Comentarios, dtype: int64"
      ]
     },
     "execution_count": 14,
     "metadata": {},
     "output_type": "execute_result"
    }
   ],
   "source": [
    "df_oct_2019[df_oct_2019['Recomendacion']<8].groupby('Franquicia')['Comentarios'].count()"
   ]
  },
  {
   "cell_type": "code",
   "execution_count": 15,
   "metadata": {},
   "outputs": [],
   "source": [
    "coms = list(df_oct_2019[df_oct_2019['Recomendacion']<8].groupby('Franquicia')['Comentarios'])\n",
    "bad_com_dict = {}\n",
    "for i in range(0, len(coms)):\n",
    "    bad_com_dict[f'{coms[i][0]}'] = coms[i][1]"
   ]
  },
  {
   "cell_type": "code",
   "execution_count": 16,
   "metadata": {},
   "outputs": [
    {
     "name": "stdout",
     "output_type": "stream",
     "text": [
      "No\n",
      ".\n",
      "No\n",
      "La mesa está sucia con cosas de otro servicio\n",
      "nan\n",
      "nan\n",
      "No\n"
     ]
    }
   ],
   "source": [
    "# No recomendation comments from Bernardo Quintana\n",
    "for i in list(bad_com_dict['Bernardo Quintana, Qro.'].keys()):\n",
    "    print(bad_com_dict['Bernardo Quintana, Qro.'][i])"
   ]
  },
  {
   "cell_type": "code",
   "execution_count": 17,
   "metadata": {},
   "outputs": [
    {
     "name": "stdout",
     "output_type": "stream",
     "text": [
      "Después de 5 años de ser cliente frecuente, hoy mi carne estaba cruda y la gerente Alejandra no compensó está falla\n",
      "Nada\n",
      "Ninguno todo bien   \n",
      "Ha bajado la calidad de la carne de sus hamburguesas su sabor no es el mismo\n"
     ]
    }
   ],
   "source": [
    "# No recomendation comments from Jardines de la Hacienda\n",
    "for i in list(bad_com_dict['Jardines de la Hacienda, Qro.'].keys()):\n",
    "    print(bad_com_dict['Jardines de la Hacienda, Qro.'][i])"
   ]
  },
  {
   "cell_type": "code",
   "execution_count": 18,
   "metadata": {},
   "outputs": [
    {
     "name": "stdout",
     "output_type": "stream",
     "text": [
      "La salsa de las alas estaba muy salada casi incomible y la costra muy gruesa\n",
      "Excelente música \n",
      "La carne de las hamburguesas es MUY mala \n",
      "Mejoren la calidad de la carne\n"
     ]
    }
   ],
   "source": [
    "# No recomendation comments from León\n",
    "for i in list(bad_com_dict['León, Gto.'].keys()):\n",
    "    print(bad_com_dict['León, Gto.'][i])"
   ]
  },
  {
   "cell_type": "code",
   "execution_count": 19,
   "metadata": {},
   "outputs": [
    {
     "name": "stdout",
     "output_type": "stream",
     "text": [
      "Deberían considerar agregar alguna salsa o picante adicional a los platillos        \n",
      "Mejorar el servicio pues es muy lento\n",
      "No\n",
      "Ninguno\n",
      "Ninguna, todo BN.\n",
      "No\n",
      "Ninguna me parece buen lugar\n",
      "Tardan un poco más en preparae la comida que su competecia\n",
      "El tiempo de espera en los alimentos es demasiado largo al igual que la toma de orden \n",
      "No\n",
      "La carne de la hamburguesa ticket no tiene buen sabor\n",
      "No vamos a regresar\n",
      "nan\n",
      "No\n",
      "Buen ambiente\n",
      "No\n"
     ]
    }
   ],
   "source": [
    "# No recomendation comments from Sendero\n",
    "for i in list(bad_com_dict['Sendero, Qro.'].keys()):\n",
    "    print(bad_com_dict['Sendero, Qro.'][i])"
   ]
  },
  {
   "cell_type": "markdown",
   "metadata": {},
   "source": [
    "<h4>Bernardo Quintana</h4>\n",
    "1. Mesas sucias\n",
    "<br>\n",
    "<h4>Jardines de la Hacienda</h4>\n",
    "1. Gerente Alejandra no compensó la falla\n",
    "<br>2. Ha bajado la calidad de carne para hamburguesa (2x)\n",
    "<br>\n",
    "<h4>León</h4>\n",
    "1. Salsas de las alas muy saladas\n",
    "<br>2. Costra de las alas muy gruesa\n",
    "<br>3. Mejoren la calidad de la carne\n",
    "<br>\n",
    "<h4>Sendero</h4>\n",
    "1. Agregar salsa picantes\n",
    "<br>2. Servicio muy lento (3x)"
   ]
  },
  {
   "cell_type": "markdown",
   "metadata": {},
   "source": [
    "<h2>3. Food and Drink Average</h2>"
   ]
  },
  {
   "cell_type": "code",
   "execution_count": 20,
   "metadata": {},
   "outputs": [
    {
     "data": {
      "image/png": "[encoded data removed]",
      "text/plain": [
       "<Figure size 1152x360 with 1 Axes>"
      ]
     },
     "metadata": {
      "needs_background": "light"
     },
     "output_type": "display_data"
    }
   ],
   "source": [
    "# Total Average Food Count\n",
    "df_food_ = list(df_oct_2019['Comida'])\n",
    "total_e_f = 0\n",
    "total_b_f = 0\n",
    "total_r_f = 0\n",
    "total_m_f = 0\n",
    "total_na_f = 0\n",
    "\n",
    "for i in df_food_:\n",
    "    if i == 'Excelente':\n",
    "        total_e_f += 1\n",
    "    elif i == 'Bueno':\n",
    "        total_b_f += 1\n",
    "    elif i == 'Regular':\n",
    "        total_r_f += 1\n",
    "    elif i == 'Malo':\n",
    "        total_m_f += 1\n",
    "    else:\n",
    "        total_na_f += 1\n",
    "        \n",
    "# Total Average Drink Count\n",
    "df_drink_ = list(df_oct_2019['Bebida'])\n",
    "total_e_d = 0\n",
    "total_b_d = 0\n",
    "total_r_d = 0\n",
    "total_m_d = 0\n",
    "total_na_d = 0\n",
    "\n",
    "for i in df_drink_:\n",
    "    if i == 'Excelente':\n",
    "        total_e_d += 1\n",
    "    elif i == 'Bueno':\n",
    "        total_b_d += 1\n",
    "    elif i == 'Regular':\n",
    "        total_r_d += 1\n",
    "    elif i == 'Malo':\n",
    "        total_m_d += 1\n",
    "    else:\n",
    "        total_na_d += 1\n",
    "        \n",
    "# Congigure the graph bar\n",
    "plt.figure(figsize=(16,5))\n",
    "avg = ['Excelente', 'Bueno', 'Regular', 'Malo']\n",
    "food_list = [total_e_f, total_b_f, total_r_f, total_m_f]\n",
    "drink_list = [total_e_d, total_b_d, total_r_d, total_m_d]\n",
    "\n",
    "plt.bar(avg, food_list, label='Comida', width=0.8, color = '#CC333F')\n",
    "plt.bar(avg, drink_list, label='Bebida', width=0.8, color = '#00A0B0', bottom = food_list)\n",
    "\n",
    "plt.title('Evaluación de Comida y Bebida')\n",
    "plt.ylabel('Clientes')\n",
    "\n",
    "plt.legend(loc='best')\n",
    "plt.show()"
   ]
  },
  {
   "cell_type": "markdown",
   "metadata": {},
   "source": [
    "This month was very positive in terms of food and drink average. Only we need to look if REGULAR or MALO averages provided from all franchises (uniform distribution) or provided from few locals."
   ]
  },
  {
   "cell_type": "code",
   "execution_count": 21,
   "metadata": {},
   "outputs": [
    {
     "data": {
      "text/html": [
       "<div>\n",
       "<style scoped>\n",
       "    .dataframe tbody tr th:only-of-type {\n",
       "        vertical-align: middle;\n",
       "    }\n",
       "\n",
       "    .dataframe tbody tr th {\n",
       "        vertical-align: top;\n",
       "    }\n",
       "\n",
       "    .dataframe thead th {\n",
       "        text-align: right;\n",
       "    }\n",
       "</style>\n",
       "<table border=\"1\" class=\"dataframe\">\n",
       "  <thead>\n",
       "    <tr style=\"text-align: right;\">\n",
       "      <th></th>\n",
       "      <th>Comida</th>\n",
       "      <th>Total</th>\n",
       "      <th>Rate</th>\n",
       "    </tr>\n",
       "    <tr>\n",
       "      <th>Franquicia</th>\n",
       "      <th></th>\n",
       "      <th></th>\n",
       "      <th></th>\n",
       "    </tr>\n",
       "  </thead>\n",
       "  <tbody>\n",
       "    <tr>\n",
       "      <th>Bernardo Quintana, Qro.</th>\n",
       "      <td>2</td>\n",
       "      <td>51</td>\n",
       "      <td>0.039216</td>\n",
       "    </tr>\n",
       "    <tr>\n",
       "      <th>Jardines de la Hacienda, Qro.</th>\n",
       "      <td>1</td>\n",
       "      <td>39</td>\n",
       "      <td>0.025641</td>\n",
       "    </tr>\n",
       "    <tr>\n",
       "      <th>León, Gto.</th>\n",
       "      <td>6</td>\n",
       "      <td>29</td>\n",
       "      <td>0.206897</td>\n",
       "    </tr>\n",
       "    <tr>\n",
       "      <th>Sendero, Qro.</th>\n",
       "      <td>14</td>\n",
       "      <td>165</td>\n",
       "      <td>0.084848</td>\n",
       "    </tr>\n",
       "  </tbody>\n",
       "</table>\n",
       "</div>"
      ],
      "text/plain": [
       "                               Comida  Total      Rate\n",
       "Franquicia                                            \n",
       "Bernardo Quintana, Qro.             2     51  0.039216\n",
       "Jardines de la Hacienda, Qro.       1     39  0.025641\n",
       "León, Gto.                          6     29  0.206897\n",
       "Sendero, Qro.                      14    165  0.084848"
      ]
     },
     "execution_count": 21,
     "metadata": {},
     "output_type": "execute_result"
    }
   ],
   "source": [
    "# Bad rate from Food per Franchise\n",
    "df_food_outna = df_oct_2019[['Franquicia', 'Comida']].dropna()\n",
    "df_food_res = df_food_outna[(df_food_outna['Comida'] == 'Regular') | (df_food_outna['Comida'] == 'Malo')].groupby('Franquicia').count()\n",
    "df_food_res['Total'] = [\n",
    "    df_food_outna.groupby('Franquicia').count()['Comida'][0],\n",
    "    df_food_outna.groupby('Franquicia').count()['Comida'][1],\n",
    "    df_food_outna.groupby('Franquicia').count()['Comida'][3],\n",
    "    df_food_outna.groupby('Franquicia').count()['Comida'][5]\n",
    "    ]\n",
    "df_food_res\n",
    "\n",
    "df_food_res['Rate'] = [\n",
    "    df_food_res['Comida'][0]/df_food_outna.groupby('Franquicia').count()['Comida'][0],\n",
    "    df_food_res['Comida'][1]/df_food_outna.groupby('Franquicia').count()['Comida'][1],\n",
    "    df_food_res['Comida'][2]/df_food_outna.groupby('Franquicia').count()['Comida'][3],\n",
    "    df_food_res['Comida'][3]/df_food_outna.groupby('Franquicia').count()['Comida'][5]\n",
    "]\n",
    "df_food_res"
   ]
  },
  {
   "cell_type": "code",
   "execution_count": 22,
   "metadata": {},
   "outputs": [
    {
     "data": {
      "image/png": "[encoded data removed]",
      "text/plain": [
       "<Figure size 1152x576 with 1 Axes>"
      ]
     },
     "metadata": {
      "needs_background": "light"
     },
     "output_type": "display_data"
    },
    {
     "name": "stdout",
     "output_type": "stream",
     "text": [
      "BQ : 0.0392\n",
      "JAR : 0.0256\n",
      "LN : 0.2069\n",
      "SEN : 0.0848\n"
     ]
    }
   ],
   "source": [
    "# Configuring a bar graph\n",
    "x_1 = ['BQ', 'JAR', 'LN', 'SEN']\n",
    "y_1 = list(df_food_res['Rate'])\n",
    "\n",
    "plt.figure(figsize=(16,8))\n",
    "plt.bar(x_1, y_1, width=0.8, color=colors)\n",
    "\n",
    "plt.title('Ratio de Disguto por Comida')\n",
    "plt.ylabel('Porcentaje')\n",
    "\n",
    "plt.show()\n",
    "\n",
    "for i in range(0, len(x_1)):\n",
    "    print(f'{x_1[i]} : {round(y_1[i],4)}')"
   ]
  },
  {
   "cell_type": "markdown",
   "metadata": {},
   "source": [
    "After normalizing the graph according with their total customers who answer this part of the survey, we can note yet that food in León on october 2019 was the worst of all. And if we take a look to customer comments, the events relationate as well. Virtually Leon and Sendero franchise comments"
   ]
  },
  {
   "cell_type": "code",
   "execution_count": 23,
   "metadata": {},
   "outputs": [
    {
     "name": "stdout",
     "output_type": "stream",
     "text": [
      "La salsa de las alas estaba muy salada casi incomible y la costra muy gruesa\n",
      "Excelente música \n",
      "La carne de las hamburguesas es MUY mala \n",
      "Mejoren la calidad de la carne\n"
     ]
    }
   ],
   "source": [
    "# Bad comments from León Franchise\n",
    "for i in list(bad_com_dict['León, Gto.'].keys()):\n",
    "    print(bad_com_dict['León, Gto.'][i])"
   ]
  },
  {
   "cell_type": "code",
   "execution_count": 24,
   "metadata": {},
   "outputs": [
    {
     "name": "stdout",
     "output_type": "stream",
     "text": [
      "Deberían considerar agregar alguna salsa o picante adicional a los platillos        \n",
      "Mejorar el servicio pues es muy lento\n",
      "No\n",
      "Ninguno\n",
      "Ninguna, todo BN.\n",
      "No\n",
      "Ninguna me parece buen lugar\n",
      "Tardan un poco más en preparae la comida que su competecia\n",
      "El tiempo de espera en los alimentos es demasiado largo al igual que la toma de orden \n",
      "No\n",
      "La carne de la hamburguesa ticket no tiene buen sabor\n",
      "No vamos a regresar\n",
      "nan\n",
      "No\n",
      "Buen ambiente\n",
      "No\n"
     ]
    }
   ],
   "source": [
    "# Bad comments from Sendero Franchise\n",
    "for i in list(bad_com_dict['Sendero, Qro.'].keys()):\n",
    "    print(bad_com_dict['Sendero, Qro.'][i])"
   ]
  },
  {
   "cell_type": "markdown",
   "metadata": {},
   "source": [
    "Other thing that could be important to highlight is that Bernardo Quintana has a hight no recomendation rate but also has a lower bad rate about food. So this could be indicate that customers were disgusted with the service more than the food quality. "
   ]
  },
  {
   "cell_type": "code",
   "execution_count": 25,
   "metadata": {},
   "outputs": [
    {
     "data": {
      "text/html": [
       "<div>\n",
       "<style scoped>\n",
       "    .dataframe tbody tr th:only-of-type {\n",
       "        vertical-align: middle;\n",
       "    }\n",
       "\n",
       "    .dataframe tbody tr th {\n",
       "        vertical-align: top;\n",
       "    }\n",
       "\n",
       "    .dataframe thead th {\n",
       "        text-align: right;\n",
       "    }\n",
       "</style>\n",
       "<table border=\"1\" class=\"dataframe\">\n",
       "  <thead>\n",
       "    <tr style=\"text-align: right;\">\n",
       "      <th></th>\n",
       "      <th>Bebida</th>\n",
       "      <th>Total</th>\n",
       "      <th>Rate</th>\n",
       "    </tr>\n",
       "    <tr>\n",
       "      <th>Franquicia</th>\n",
       "      <th></th>\n",
       "      <th></th>\n",
       "      <th></th>\n",
       "    </tr>\n",
       "  </thead>\n",
       "  <tbody>\n",
       "    <tr>\n",
       "      <th>Bernardo Quintana, Qro.</th>\n",
       "      <td>4</td>\n",
       "      <td>51</td>\n",
       "      <td>0.078431</td>\n",
       "    </tr>\n",
       "    <tr>\n",
       "      <th>Juriquilla, Qro.</th>\n",
       "      <td>1</td>\n",
       "      <td>18</td>\n",
       "      <td>0.055556</td>\n",
       "    </tr>\n",
       "    <tr>\n",
       "      <th>León, Gto.</th>\n",
       "      <td>4</td>\n",
       "      <td>29</td>\n",
       "      <td>0.137931</td>\n",
       "    </tr>\n",
       "    <tr>\n",
       "      <th>San Juan del Río, Qro.</th>\n",
       "      <td>2</td>\n",
       "      <td>30</td>\n",
       "      <td>0.066667</td>\n",
       "    </tr>\n",
       "    <tr>\n",
       "      <th>Sendero, Qro.</th>\n",
       "      <td>15</td>\n",
       "      <td>166</td>\n",
       "      <td>0.090361</td>\n",
       "    </tr>\n",
       "  </tbody>\n",
       "</table>\n",
       "</div>"
      ],
      "text/plain": [
       "                         Bebida  Total      Rate\n",
       "Franquicia                                      \n",
       "Bernardo Quintana, Qro.       4     51  0.078431\n",
       "Juriquilla, Qro.              1     18  0.055556\n",
       "León, Gto.                    4     29  0.137931\n",
       "San Juan del Río, Qro.        2     30  0.066667\n",
       "Sendero, Qro.                15    166  0.090361"
      ]
     },
     "execution_count": 25,
     "metadata": {},
     "output_type": "execute_result"
    }
   ],
   "source": [
    "# Bad rate from Drink per Franchise\n",
    "df_drink_outna = df_oct_2019[['Franquicia', 'Bebida']].dropna()\n",
    "df_drink_res = df_drink_outna[(df_drink_outna['Bebida'] == 'Regular') | (df_drink_outna['Bebida'] == 'Malo')].groupby('Franquicia').count()\n",
    "df_drink_res['Total'] = [\n",
    "    df_drink_outna.groupby('Franquicia').count()['Bebida'][0],\n",
    "    df_drink_outna.groupby('Franquicia').count()['Bebida'][2],\n",
    "    df_drink_outna.groupby('Franquicia').count()['Bebida'][3],\n",
    "    df_drink_outna.groupby('Franquicia').count()['Bebida'][4],\n",
    "    df_drink_outna.groupby('Franquicia').count()['Bebida'][5]\n",
    "    ]\n",
    "df_drink_res\n",
    "\n",
    "df_drink_res['Rate'] = [\n",
    "    df_drink_res['Bebida'][0]/df_drink_outna.groupby('Franquicia').count()['Bebida'][0],\n",
    "    df_drink_res['Bebida'][1]/df_drink_outna.groupby('Franquicia').count()['Bebida'][2],\n",
    "    df_drink_res['Bebida'][2]/df_drink_outna.groupby('Franquicia').count()['Bebida'][3],\n",
    "    df_drink_res['Bebida'][3]/df_drink_outna.groupby('Franquicia').count()['Bebida'][4],\n",
    "    df_drink_res['Bebida'][4]/df_drink_outna.groupby('Franquicia').count()['Bebida'][5]\n",
    "]\n",
    "df_drink_res"
   ]
  },
  {
   "cell_type": "code",
   "execution_count": 26,
   "metadata": {},
   "outputs": [
    {
     "data": {
      "image/png": "[encoded data removed]",
      "text/plain": [
       "<Figure size 1152x576 with 1 Axes>"
      ]
     },
     "metadata": {
      "needs_background": "light"
     },
     "output_type": "display_data"
    },
    {
     "name": "stdout",
     "output_type": "stream",
     "text": [
      "BQ : 0.0784\n",
      "JUR : 0.0556\n",
      "LN : 0.1379\n",
      "SJR : 0.0667\n",
      "SEN : 0.0904\n"
     ]
    }
   ],
   "source": [
    "# Configuring a bar graph\n",
    "x_2 = ['BQ', 'JUR', 'LN', 'SJR', 'SEN']\n",
    "y_2 = list(df_drink_res['Rate'])\n",
    "\n",
    "plt.figure(figsize=(16,8))\n",
    "plt.bar(x_2, y_2, width=0.8, color=colors)\n",
    "\n",
    "plt.title('Ratio de Disguto por Bebida')\n",
    "plt.ylabel('Porcentaje')\n",
    "\n",
    "plt.show()\n",
    "\n",
    "for i in range(0, len(x_2)):\n",
    "    print(f'{x_2[i]} : {round(y_2[i],4)}')"
   ]
  },
  {
   "cell_type": "code",
   "execution_count": 27,
   "metadata": {},
   "outputs": [
    {
     "data": {
      "image/png": "[encoded data removed]",
      "text/plain": [
       "<Figure size 1152x576 with 1 Axes>"
      ]
     },
     "metadata": {
      "needs_background": "light"
     },
     "output_type": "display_data"
    }
   ],
   "source": [
    "#Visualizing in one graph to compare food vs drink dislike\n",
    "y_1 = list(df_food_res['Rate'])\n",
    "y_1.insert(2,0.0)\n",
    "y_1.insert(4,0.0)\n",
    "\n",
    "y_2_pos = list(df_drink_res['Rate'])\n",
    "y_2_pos.insert(1,0.0)\n",
    "\n",
    "y_2 = []\n",
    "for i in y_2_pos:\n",
    "    y_2.append(i*(-1))\n",
    "\n",
    "x_3 = ['BQ', 'JAR', 'JUR', 'LN', 'SJR', 'SEN']\n",
    "\n",
    "# Configuring a bar graph\n",
    "plt.figure(figsize=(16,8))\n",
    "plt.bar(x_3, y_1, facecolor=colors[0], edgecolor='white', label='Comida')\n",
    "plt.bar(x_3, y_2, facecolor=colors[3], edgecolor='white', label='Bebida')\n",
    "\n",
    "for x, y in zip(x_3, y_1):\n",
    "    plt.text(x, y + 0.005, '%.2f' % y, ha='center', va= 'bottom')\n",
    "for x, y in zip(x_3, y_2):\n",
    "    plt.text(x, y - 0.018, '%.2f' % y, ha='center', va= 'bottom')\n",
    "\n",
    "plt.xlim(-.5, 5.5)\n",
    "plt.ylim(-0.25, 0.25)\n",
    "plt.legend(loc='best')\n",
    "plt.title('Ratio de Disgusto General')\n",
    "\n",
    "plt.show()"
   ]
  },
  {
   "cell_type": "markdown",
   "metadata": {},
   "source": [
    "I conclude that Bernardo Quintana and Sendero must be append on yellow light list, but correction on food of Leon franchise is most relevant, because its averages are very lower. "
   ]
  },
  {
   "cell_type": "markdown",
   "metadata": {},
   "source": [
    "<h2>4. Price-Quality rate</h2>"
   ]
  },
  {
   "cell_type": "code",
   "execution_count": 28,
   "metadata": {},
   "outputs": [],
   "source": [
    "df_pq_outna = df_oct_2019[['Franquicia', 'CalidadPrecio']].dropna()\n",
    "\n",
    "# Bernardo Quintana Price-Quality Rate\n",
    "pq_bq_sum = df_pq_outna[df_pq_outna['Franquicia']=='Bernardo Quintana, Qro.'].groupby('CalidadPrecio').count()\n",
    "\n",
    "# Jardines de la Hacienda Price-Quality Rate\n",
    "pq_jh_sum = df_pq_outna[df_pq_outna['Franquicia']=='Jardines de la Hacienda, Qro.'].groupby('CalidadPrecio').count()\n",
    "\n",
    "# Juriquilla Price-Quality Rate\n",
    "pq_jur_sum = df_pq_outna[df_pq_outna['Franquicia']=='Juriquilla, Qro.'].groupby('CalidadPrecio').count()\n",
    "\n",
    "# León Price-Quality Rate\n",
    "pq_ln_sum = df_pq_outna[df_pq_outna['Franquicia']=='León, Gto.'].groupby('CalidadPrecio').count()\n",
    "\n",
    "# San Juan del Río Price-Quality Rate\n",
    "pq_sjr_sum = df_pq_outna[df_pq_outna['Franquicia']=='San Juan del Río, Qro.'].groupby('CalidadPrecio').count()\n",
    "\n",
    "# Sendero Price-Quality Rate\n",
    "pq_sen_sum = df_pq_outna[df_pq_outna['Franquicia']=='Sendero, Qro.'].groupby('CalidadPrecio').count()"
   ]
  },
  {
   "cell_type": "code",
   "execution_count": 29,
   "metadata": {},
   "outputs": [
    {
     "data": {
      "image/png": "[encoded data removed]",
      "text/plain": [
       "<Figure size 1152x576 with 6 Axes>"
      ]
     },
     "metadata": {},
     "output_type": "display_data"
    }
   ],
   "source": [
    "# Price-Quality Rate per Franchise\n",
    "plt.figure(figsize=(16,8))\n",
    "\n",
    "plt.subplot(2,3,1)\n",
    "plt.pie(list(pq_bq_sum['Franquicia']), labels=list(pq_bq_sum['Franquicia'].keys()), colors=colors, shadow=True, autopct='%1.1f%%')\n",
    "plt.title('Bernardo Quintana')\n",
    "\n",
    "plt.subplot(2,3,2)\n",
    "plt.pie(list(pq_jh_sum['Franquicia']), labels=list(pq_jh_sum['Franquicia'].keys()), colors=colors, shadow=True, autopct='%1.1f%%')\n",
    "plt.title('Jardines de la Hacienda')\n",
    "\n",
    "plt.subplot(2,3,3)\n",
    "plt.pie(list(pq_jur_sum['Franquicia']), labels=list(pq_jur_sum['Franquicia'].keys()), colors=colors, shadow=True, autopct='%1.1f%%')\n",
    "plt.title('Juriquilla')\n",
    "\n",
    "plt.subplot(2,3,4)\n",
    "plt.pie(list(pq_ln_sum['Franquicia']), labels=list(pq_ln_sum['Franquicia'].keys()), colors=colors, shadow=True, autopct='%1.1f%%')\n",
    "plt.title('León')\n",
    "\n",
    "plt.subplot(2,3,5)\n",
    "plt.pie(list(pq_sjr_sum['Franquicia']), labels=list(pq_sjr_sum['Franquicia'].keys()), colors=colors, shadow=True, autopct='%1.1f%%')\n",
    "plt.title('San Juan del Río')\n",
    "\n",
    "plt.subplot(2,3,6)\n",
    "plt.pie(list(pq_sen_sum['Franquicia']), labels=list(pq_sen_sum['Franquicia'].keys()), colors=colors, shadow=True, autopct='%1.1f%%')\n",
    "plt.title('Sendero')\n",
    "\n",
    "plt.show()"
   ]
  },
  {
   "cell_type": "markdown",
   "metadata": {},
   "source": [
    "This metric is very dinamic month a month because the Management Team of Rock n Ribs change his prices of each franchise according to the season, the existing inventory or other events like soccer matchs with the aim to increase his revenue. Looking this graphs we can perceive that Juriquilla and León have the best scores to Price-Quality Rate, maybe because the mean cost of food in there cities is higher than the others franchise cities. \n",
    "\n",
    "<br>With the aim to clarify this hipothesys we take a look into https://www.inegi.org.mx/app/preciospromedio/ to understand the cost of food in these states."
   ]
  },
  {
   "cell_type": "code",
   "execution_count": 30,
   "metadata": {},
   "outputs": [
    {
     "data": {
      "text/html": [
       "<div>\n",
       "<style scoped>\n",
       "    .dataframe tbody tr th:only-of-type {\n",
       "        vertical-align: middle;\n",
       "    }\n",
       "\n",
       "    .dataframe tbody tr th {\n",
       "        vertical-align: top;\n",
       "    }\n",
       "\n",
       "    .dataframe thead th {\n",
       "        text-align: right;\n",
       "    }\n",
       "</style>\n",
       "<table border=\"1\" class=\"dataframe\">\n",
       "  <thead>\n",
       "    <tr style=\"text-align: right;\">\n",
       "      <th></th>\n",
       "      <th>Año</th>\n",
       "      <th>Mes</th>\n",
       "      <th>Fecha_Pub_DOF</th>\n",
       "      <th>Clave ciudad</th>\n",
       "      <th>Nombre ciudad</th>\n",
       "      <th>División</th>\n",
       "      <th>Grupo</th>\n",
       "      <th>Clase</th>\n",
       "      <th>Subclase</th>\n",
       "      <th>Clave generico</th>\n",
       "      <th>Generico</th>\n",
       "      <th>Consecutivo</th>\n",
       "      <th>Especificación</th>\n",
       "      <th>Precio promedio</th>\n",
       "      <th>Cantidad</th>\n",
       "      <th>Unidad</th>\n",
       "      <th>Estatus</th>\n",
       "    </tr>\n",
       "  </thead>\n",
       "  <tbody>\n",
       "    <tr>\n",
       "      <th>0</th>\n",
       "      <td>2018</td>\n",
       "      <td>7</td>\n",
       "      <td>17/08/2018 12:00:00 a. m.</td>\n",
       "      <td>10</td>\n",
       "      <td>León, Gto.</td>\n",
       "      <td>1. Alimentos, bebidas y tabaco</td>\n",
       "      <td>1.1. Alimentos</td>\n",
       "      <td>1.1.1. Pan, tortillas y cereales</td>\n",
       "      <td>01 Tortillas y derivados del maíz</td>\n",
       "      <td>1</td>\n",
       "      <td>Tortilla de maíz</td>\n",
       "      <td>1</td>\n",
       "      <td>A GRANEL</td>\n",
       "      <td>15.0</td>\n",
       "      <td>1</td>\n",
       "      <td>KG</td>\n",
       "      <td>NaN</td>\n",
       "    </tr>\n",
       "    <tr>\n",
       "      <th>1</th>\n",
       "      <td>2018</td>\n",
       "      <td>7</td>\n",
       "      <td>17/08/2018 12:00:00 a. m.</td>\n",
       "      <td>10</td>\n",
       "      <td>León, Gto.</td>\n",
       "      <td>1. Alimentos, bebidas y tabaco</td>\n",
       "      <td>1.1. Alimentos</td>\n",
       "      <td>1.1.1. Pan, tortillas y cereales</td>\n",
       "      <td>01 Tortillas y derivados del maíz</td>\n",
       "      <td>1</td>\n",
       "      <td>Tortilla de maíz</td>\n",
       "      <td>2</td>\n",
       "      <td>A GRANEL</td>\n",
       "      <td>14.0</td>\n",
       "      <td>1</td>\n",
       "      <td>KG</td>\n",
       "      <td>NaN</td>\n",
       "    </tr>\n",
       "    <tr>\n",
       "      <th>2</th>\n",
       "      <td>2018</td>\n",
       "      <td>7</td>\n",
       "      <td>17/08/2018 12:00:00 a. m.</td>\n",
       "      <td>10</td>\n",
       "      <td>León, Gto.</td>\n",
       "      <td>1. Alimentos, bebidas y tabaco</td>\n",
       "      <td>1.1. Alimentos</td>\n",
       "      <td>1.1.1. Pan, tortillas y cereales</td>\n",
       "      <td>01 Tortillas y derivados del maíz</td>\n",
       "      <td>1</td>\n",
       "      <td>Tortilla de maíz</td>\n",
       "      <td>3</td>\n",
       "      <td>A GRANEL</td>\n",
       "      <td>12.0</td>\n",
       "      <td>1</td>\n",
       "      <td>KG</td>\n",
       "      <td>NaN</td>\n",
       "    </tr>\n",
       "    <tr>\n",
       "      <th>3</th>\n",
       "      <td>2018</td>\n",
       "      <td>7</td>\n",
       "      <td>17/08/2018 12:00:00 a. m.</td>\n",
       "      <td>10</td>\n",
       "      <td>León, Gto.</td>\n",
       "      <td>1. Alimentos, bebidas y tabaco</td>\n",
       "      <td>1.1. Alimentos</td>\n",
       "      <td>1.1.1. Pan, tortillas y cereales</td>\n",
       "      <td>01 Tortillas y derivados del maíz</td>\n",
       "      <td>1</td>\n",
       "      <td>Tortilla de maíz</td>\n",
       "      <td>4</td>\n",
       "      <td>A GRANEL</td>\n",
       "      <td>10.2</td>\n",
       "      <td>1</td>\n",
       "      <td>KG</td>\n",
       "      <td>NaN</td>\n",
       "    </tr>\n",
       "    <tr>\n",
       "      <th>4</th>\n",
       "      <td>2018</td>\n",
       "      <td>7</td>\n",
       "      <td>17/08/2018 12:00:00 a. m.</td>\n",
       "      <td>10</td>\n",
       "      <td>León, Gto.</td>\n",
       "      <td>1. Alimentos, bebidas y tabaco</td>\n",
       "      <td>1.1. Alimentos</td>\n",
       "      <td>1.1.1. Pan, tortillas y cereales</td>\n",
       "      <td>01 Tortillas y derivados del maíz</td>\n",
       "      <td>1</td>\n",
       "      <td>Tortilla de maíz</td>\n",
       "      <td>5</td>\n",
       "      <td>A GRANEL</td>\n",
       "      <td>11.2</td>\n",
       "      <td>1</td>\n",
       "      <td>KG</td>\n",
       "      <td>NaN</td>\n",
       "    </tr>\n",
       "  </tbody>\n",
       "</table>\n",
       "</div>"
      ],
      "text/plain": [
       "    Año  Mes              Fecha_Pub_DOF  Clave ciudad Nombre ciudad  \\\n",
       "0  2018    7  17/08/2018 12:00:00 a. m.            10    León, Gto.   \n",
       "1  2018    7  17/08/2018 12:00:00 a. m.            10    León, Gto.   \n",
       "2  2018    7  17/08/2018 12:00:00 a. m.            10    León, Gto.   \n",
       "3  2018    7  17/08/2018 12:00:00 a. m.            10    León, Gto.   \n",
       "4  2018    7  17/08/2018 12:00:00 a. m.            10    León, Gto.   \n",
       "\n",
       "                          División            Grupo  \\\n",
       "0   1. Alimentos, bebidas y tabaco   1.1. Alimentos   \n",
       "1   1. Alimentos, bebidas y tabaco   1.1. Alimentos   \n",
       "2   1. Alimentos, bebidas y tabaco   1.1. Alimentos   \n",
       "3   1. Alimentos, bebidas y tabaco   1.1. Alimentos   \n",
       "4   1. Alimentos, bebidas y tabaco   1.1. Alimentos   \n",
       "\n",
       "                               Clase                            Subclase  \\\n",
       "0   1.1.1. Pan, tortillas y cereales   01 Tortillas y derivados del maíz   \n",
       "1   1.1.1. Pan, tortillas y cereales   01 Tortillas y derivados del maíz   \n",
       "2   1.1.1. Pan, tortillas y cereales   01 Tortillas y derivados del maíz   \n",
       "3   1.1.1. Pan, tortillas y cereales   01 Tortillas y derivados del maíz   \n",
       "4   1.1.1. Pan, tortillas y cereales   01 Tortillas y derivados del maíz   \n",
       "\n",
       "   Clave generico          Generico  Consecutivo Especificación  \\\n",
       "0               1  Tortilla de maíz            1       A GRANEL   \n",
       "1               1  Tortilla de maíz            2       A GRANEL   \n",
       "2               1  Tortilla de maíz            3       A GRANEL   \n",
       "3               1  Tortilla de maíz            4       A GRANEL   \n",
       "4               1  Tortilla de maíz            5       A GRANEL   \n",
       "\n",
       "   Precio promedio  Cantidad Unidad Estatus  \n",
       "0             15.0         1     KG     NaN  \n",
       "1             14.0         1     KG     NaN  \n",
       "2             12.0         1     KG     NaN  \n",
       "3             10.2         1     KG     NaN  \n",
       "4             11.2         1     KG     NaN  "
      ]
     },
     "execution_count": 30,
     "metadata": {},
     "output_type": "execute_result"
    }
   ],
   "source": [
    "# Download our dataset from INEGI.ORG.MX \n",
    "df_cost_food = pd.read_csv('./INP_PP.csv')\n",
    "df_cost_food[0:5]"
   ]
  },
  {
   "cell_type": "code",
   "execution_count": 31,
   "metadata": {},
   "outputs": [
    {
     "data": {
      "text/html": [
       "<div>\n",
       "<style scoped>\n",
       "    .dataframe tbody tr th:only-of-type {\n",
       "        vertical-align: middle;\n",
       "    }\n",
       "\n",
       "    .dataframe tbody tr th {\n",
       "        vertical-align: top;\n",
       "    }\n",
       "\n",
       "    .dataframe thead th {\n",
       "        text-align: right;\n",
       "    }\n",
       "</style>\n",
       "<table border=\"1\" class=\"dataframe\">\n",
       "  <thead>\n",
       "    <tr style=\"text-align: right;\">\n",
       "      <th></th>\n",
       "      <th>count</th>\n",
       "      <th>mean</th>\n",
       "      <th>std</th>\n",
       "      <th>min</th>\n",
       "      <th>25%</th>\n",
       "      <th>50%</th>\n",
       "      <th>75%</th>\n",
       "      <th>max</th>\n",
       "    </tr>\n",
       "    <tr>\n",
       "      <th>Nombre ciudad</th>\n",
       "      <th></th>\n",
       "      <th></th>\n",
       "      <th></th>\n",
       "      <th></th>\n",
       "      <th></th>\n",
       "      <th></th>\n",
       "      <th></th>\n",
       "      <th></th>\n",
       "    </tr>\n",
       "  </thead>\n",
       "  <tbody>\n",
       "    <tr>\n",
       "      <th>León, Gto.</th>\n",
       "      <td>94.0</td>\n",
       "      <td>106.756489</td>\n",
       "      <td>70.372547</td>\n",
       "      <td>12.9</td>\n",
       "      <td>54.25</td>\n",
       "      <td>90.5</td>\n",
       "      <td>138.0</td>\n",
       "      <td>316.00</td>\n",
       "    </tr>\n",
       "    <tr>\n",
       "      <th>Querétaro, Qro.</th>\n",
       "      <td>94.0</td>\n",
       "      <td>108.832979</td>\n",
       "      <td>66.504867</td>\n",
       "      <td>13.0</td>\n",
       "      <td>56.00</td>\n",
       "      <td>100.0</td>\n",
       "      <td>147.5</td>\n",
       "      <td>328.25</td>\n",
       "    </tr>\n",
       "  </tbody>\n",
       "</table>\n",
       "</div>"
      ],
      "text/plain": [
       "                 count        mean        std   min    25%    50%    75%  \\\n",
       "Nombre ciudad                                                              \n",
       "León, Gto.        94.0  106.756489  70.372547  12.9  54.25   90.5  138.0   \n",
       "Querétaro, Qro.   94.0  108.832979  66.504867  13.0  56.00  100.0  147.5   \n",
       "\n",
       "                    max  \n",
       "Nombre ciudad            \n",
       "León, Gto.       316.00  \n",
       "Querétaro, Qro.  328.25  "
      ]
     },
     "execution_count": 31,
     "metadata": {},
     "output_type": "execute_result"
    }
   ],
   "source": [
    "# Filtering according with supplies needed for cooking Rock n Ribs dishes\n",
    "df_cost_food[(df_cost_food['Generico']=='Pan de caja') | \n",
    "(df_cost_food['Generico']=='Carne de res') |\n",
    "(df_cost_food['Generico']=='Carne de cerdo') |\n",
    "(df_cost_food['Generico']=='Pollo') |\n",
    "(df_cost_food['Generico']=='Tocino') |\n",
    "(df_cost_food['Generico']=='Cerveza') |\n",
    "(df_cost_food['Generico']=='Ron') |\n",
    "(df_cost_food['Generico']=='Masa y harinas de maíz') |\n",
    "(df_cost_food['Generico']=='Masa y harinas de maíz')].groupby('Nombre ciudad').describe()['Precio promedio']"
   ]
  },
  {
   "cell_type": "markdown",
   "metadata": {},
   "source": [
    "Unfortunately does not exist crearly information about cost of food per each township, so we can get data only from principal cities on our states. Even so, we look that the diference in prices between both cities is not relevant. Possibly we could develop other analysis about our providers prices to compare with others. Also we could scrapping the costs of our restaurant rivals."
   ]
  },
  {
   "cell_type": "markdown",
   "metadata": {},
   "source": [
    "<h2>5. Client Retention</h2>"
   ]
  },
  {
   "cell_type": "code",
   "execution_count": 32,
   "metadata": {},
   "outputs": [
    {
     "data": {
      "text/html": [
       "<div>\n",
       "<style scoped>\n",
       "    .dataframe tbody tr th:only-of-type {\n",
       "        vertical-align: middle;\n",
       "    }\n",
       "\n",
       "    .dataframe tbody tr th {\n",
       "        vertical-align: top;\n",
       "    }\n",
       "\n",
       "    .dataframe thead th {\n",
       "        text-align: right;\n",
       "    }\n",
       "</style>\n",
       "<table border=\"1\" class=\"dataframe\">\n",
       "  <thead>\n",
       "    <tr style=\"text-align: right;\">\n",
       "      <th></th>\n",
       "      <th></th>\n",
       "      <th>Recomendacion</th>\n",
       "    </tr>\n",
       "    <tr>\n",
       "      <th>Franquicia</th>\n",
       "      <th>TiempoSerCliente</th>\n",
       "      <th></th>\n",
       "    </tr>\n",
       "  </thead>\n",
       "  <tbody>\n",
       "    <tr>\n",
       "      <th rowspan=\"4\" valign=\"top\">Bernardo Quintana, Qro.</th>\n",
       "      <th>1-2 años</th>\n",
       "      <td>12</td>\n",
       "    </tr>\n",
       "    <tr>\n",
       "      <th>3 años o más</th>\n",
       "      <td>15</td>\n",
       "    </tr>\n",
       "    <tr>\n",
       "      <th>Esta es mi primera visita</th>\n",
       "      <td>8</td>\n",
       "    </tr>\n",
       "    <tr>\n",
       "      <th>Seis meses a un año</th>\n",
       "      <td>13</td>\n",
       "    </tr>\n",
       "    <tr>\n",
       "      <th rowspan=\"4\" valign=\"top\">Jardines de la Hacienda, Qro.</th>\n",
       "      <th>1-2 años</th>\n",
       "      <td>12</td>\n",
       "    </tr>\n",
       "    <tr>\n",
       "      <th>3 años o más</th>\n",
       "      <td>9</td>\n",
       "    </tr>\n",
       "    <tr>\n",
       "      <th>Esta es mi primera visita</th>\n",
       "      <td>6</td>\n",
       "    </tr>\n",
       "    <tr>\n",
       "      <th>Seis meses a un año</th>\n",
       "      <td>10</td>\n",
       "    </tr>\n",
       "    <tr>\n",
       "      <th rowspan=\"4\" valign=\"top\">Juriquilla, Qro.</th>\n",
       "      <th>1-2 años</th>\n",
       "      <td>6</td>\n",
       "    </tr>\n",
       "    <tr>\n",
       "      <th>3 años o más</th>\n",
       "      <td>5</td>\n",
       "    </tr>\n",
       "    <tr>\n",
       "      <th>Esta es mi primera visita</th>\n",
       "      <td>4</td>\n",
       "    </tr>\n",
       "    <tr>\n",
       "      <th>Seis meses a un año</th>\n",
       "      <td>3</td>\n",
       "    </tr>\n",
       "    <tr>\n",
       "      <th rowspan=\"3\" valign=\"top\">León, Gto.</th>\n",
       "      <th>1-2 años</th>\n",
       "      <td>1</td>\n",
       "    </tr>\n",
       "    <tr>\n",
       "      <th>Esta es mi primera visita</th>\n",
       "      <td>23</td>\n",
       "    </tr>\n",
       "    <tr>\n",
       "      <th>Seis meses a un año</th>\n",
       "      <td>4</td>\n",
       "    </tr>\n",
       "    <tr>\n",
       "      <th rowspan=\"4\" valign=\"top\">San Juan del Río, Qro.</th>\n",
       "      <th>1-2 años</th>\n",
       "      <td>7</td>\n",
       "    </tr>\n",
       "    <tr>\n",
       "      <th>3 años o más</th>\n",
       "      <td>3</td>\n",
       "    </tr>\n",
       "    <tr>\n",
       "      <th>Esta es mi primera visita</th>\n",
       "      <td>8</td>\n",
       "    </tr>\n",
       "    <tr>\n",
       "      <th>Seis meses a un año</th>\n",
       "      <td>12</td>\n",
       "    </tr>\n",
       "    <tr>\n",
       "      <th rowspan=\"4\" valign=\"top\">Sendero, Qro.</th>\n",
       "      <th>1-2 años</th>\n",
       "      <td>52</td>\n",
       "    </tr>\n",
       "    <tr>\n",
       "      <th>3 años o más</th>\n",
       "      <td>33</td>\n",
       "    </tr>\n",
       "    <tr>\n",
       "      <th>Esta es mi primera visita</th>\n",
       "      <td>26</td>\n",
       "    </tr>\n",
       "    <tr>\n",
       "      <th>Seis meses a un año</th>\n",
       "      <td>44</td>\n",
       "    </tr>\n",
       "  </tbody>\n",
       "</table>\n",
       "</div>"
      ],
      "text/plain": [
       "                                                         Recomendacion\n",
       "Franquicia                    TiempoSerCliente                        \n",
       "Bernardo Quintana, Qro.       1-2 años                              12\n",
       "                              3 años o más                          15\n",
       "                              Esta es mi primera visita              8\n",
       "                              Seis meses a un año                   13\n",
       "Jardines de la Hacienda, Qro. 1-2 años                              12\n",
       "                              3 años o más                           9\n",
       "                              Esta es mi primera visita              6\n",
       "                              Seis meses a un año                   10\n",
       "Juriquilla, Qro.              1-2 años                               6\n",
       "                              3 años o más                           5\n",
       "                              Esta es mi primera visita              4\n",
       "                              Seis meses a un año                    3\n",
       "León, Gto.                    1-2 años                               1\n",
       "                              Esta es mi primera visita             23\n",
       "                              Seis meses a un año                    4\n",
       "San Juan del Río, Qro.        1-2 años                               7\n",
       "                              3 años o más                           3\n",
       "                              Esta es mi primera visita              8\n",
       "                              Seis meses a un año                   12\n",
       "Sendero, Qro.                 1-2 años                              52\n",
       "                              3 años o más                          33\n",
       "                              Esta es mi primera visita             26\n",
       "                              Seis meses a un año                   44"
      ]
     },
     "execution_count": 32,
     "metadata": {},
     "output_type": "execute_result"
    }
   ],
   "source": [
    "# We take Recomendacion column like a reference to count easily without NaN values\n",
    "df_be_cust = pd.DataFrame(df_oct_2019[['Franquicia','TiempoSerCliente','Recomendacion']].groupby(['Franquicia', 'TiempoSerCliente']).count())\n",
    "df_be_cust"
   ]
  },
  {
   "cell_type": "code",
   "execution_count": 33,
   "metadata": {},
   "outputs": [],
   "source": [
    "keys_be_cust = list(df_be_cust['Recomendacion'].keys())\n",
    "\n",
    "params_dict = {}\n",
    "for i in range(0, len(keys_be_cust)-1):\n",
    "    params_dict[f'{keys_be_cust[i][0]} , {keys_be_cust[i][1]}'] = df_be_cust['Recomendacion'][keys_be_cust[i][0]][keys_be_cust[i][1]]"
   ]
  },
  {
   "cell_type": "code",
   "execution_count": 34,
   "metadata": {},
   "outputs": [],
   "source": [
    "y_bq = [params_dict['Bernardo Quintana, Qro. , Esta es mi primera\\xa0visita'], \n",
    "        params_dict['Bernardo Quintana, Qro. , Seis meses a un año'],\n",
    "        params_dict['Bernardo Quintana, Qro. , 1-2 años'],\n",
    "        params_dict['Bernardo Quintana, Qro. , 3 años o más']]\n",
    "        \n",
    "y_jh = [params_dict['Jardines de la Hacienda, Qro. , Esta es mi primera\\xa0visita'], \n",
    "        params_dict['Jardines de la Hacienda, Qro. , Seis meses a un año'],\n",
    "        params_dict['Jardines de la Hacienda, Qro. , 1-2 años'],\n",
    "        params_dict['Jardines de la Hacienda, Qro. , 3 años o más']]\n",
    "        \n",
    "y_jur = [params_dict['Jardines de la Hacienda, Qro. , Esta es mi primera\\xa0visita'], \n",
    "        params_dict['Jardines de la Hacienda, Qro. , Seis meses a un año'],\n",
    "        params_dict['Jardines de la Hacienda, Qro. , 1-2 años'],\n",
    "        params_dict['Jardines de la Hacienda, Qro. , 3 años o más']]\n",
    "\n",
    "y_ln = [params_dict['León, Gto. , Esta es mi primera\\xa0visita'], \n",
    "        params_dict['León, Gto. , Seis meses a un año'],\n",
    "        params_dict['León, Gto. , 1-2 años'],\n",
    "        0]\n",
    "\n",
    "y_sjr = [params_dict['San Juan del Río, Qro. , Esta es mi primera\\xa0visita'], \n",
    "        params_dict['San Juan del Río, Qro. , Seis meses a un año'],\n",
    "        params_dict['San Juan del Río, Qro. , 1-2 años'],\n",
    "        params_dict['San Juan del Río, Qro. , 3 años o más']]\n",
    "\n",
    "y_sen = [params_dict['Sendero, Qro. , Esta es mi primera\\xa0visita'], \n",
    "        0,\n",
    "        params_dict['Sendero, Qro. , 1-2 años'],\n",
    "        params_dict['Sendero, Qro. , 3 años o más']]"
   ]
  },
  {
   "cell_type": "code",
   "execution_count": 35,
   "metadata": {},
   "outputs": [
    {
     "data": {
      "image/png": "[encoded data removed]",
      "text/plain": [
       "<Figure size 1152x360 with 1 Axes>"
      ]
     },
     "metadata": {
      "needs_background": "light"
     },
     "output_type": "display_data"
    }
   ],
   "source": [
    "# Design the graph bar\n",
    "x = ['1st visit', '6m to 1y', '1y to 2y', '3y +']\n",
    "\n",
    "plt.figure(figsize=(16,5))\n",
    "plt.plot(x, y_bq, label='Bernardo Quintana', linewidth=2, color=colors[0])\n",
    "plt.plot(x, y_jh, label='Jardines de la Hacienda', linewidth=2, color=colors[1])\n",
    "plt.plot(x, y_jur, label='Juriquilla', linewidth=2, color='k')\n",
    "plt.plot(x, y_ln, label='León', linewidth=2, color=colors[3])\n",
    "plt.plot(x, y_sjr, label='San Juan del Río', linewidth=2, color=colors[4])\n",
    "plt.plot(x, y_sen, label='Sendero', linewidth=2, color=colors[5])\n",
    "\n",
    "plt.gca().invert_xaxis()\n",
    "plt.title('Retención de los Clientes')\n",
    "plt.xlabel = ('Tiempo de Ser Cliente')\n",
    "plt.ylabel = ('Clientes')\n",
    "plt.grid(linewidth=0.8, linestyle=':')\n",
    "plt.legend(loc='best')\n",
    "\n",
    "plt.show()"
   ]
  },
  {
   "cell_type": "markdown",
   "metadata": {},
   "source": [
    "Most customer quantity came from Sendero, in specific the customers whose first visit was 1 year to back. Sendero and León had an increment for new clients on October, but the other franchises had a decrease on this topic. The customer retention in general is uniform but partly decreasing, with an exception in Sendero, which retention was been \n",
    "very changeable, in this case we need to look up other retention rate months to have a best look for this event."
   ]
  },
  {
   "cell_type": "markdown",
   "metadata": {},
   "source": [
    "<h2>6. Advertising media effectiveness</h2>"
   ]
  },
  {
   "cell_type": "code",
   "execution_count": 36,
   "metadata": {},
   "outputs": [
    {
     "data": {
      "text/plain": [
       "Index(['respondent_id', 'collector_id', 'date_created', 'date_modified',\n",
       "       'ip_address', 'NombreCliente', 'Email', 'Celular', 'Franquicia',\n",
       "       'Recomendacion', 'Comida', 'Bebida', 'CalidadPrecio',\n",
       "       'TiempoSerCliente', 'MedCon', 'OtroMedCon', 'AtencionMesero',\n",
       "       'NomMesero', 'AtencionGerente', 'NombreGerente', 'DeseoFranq',\n",
       "       'CiudadDeseoFranq', 'Comentarios'],\n",
       "      dtype='object')"
      ]
     },
     "execution_count": 36,
     "metadata": {},
     "output_type": "execute_result"
    }
   ],
   "source": [
    "df_oct_2019.columns"
   ]
  },
  {
   "cell_type": "code",
   "execution_count": 37,
   "metadata": {},
   "outputs": [
    {
     "data": {
      "text/plain": [
       "4523                      Vivo cercas\n",
       "4565                     Amiga/cajera\n",
       "4660                           Visita\n",
       "4749        Vista x entregas de rappi\n",
       "4778                 Amigos borrachos\n",
       "4785                Trabajo a un lado\n",
       "4816    Me invitaron en mi cumpleaños\n",
       "Name: OtroMedCon, dtype: object"
      ]
     },
     "execution_count": 37,
     "metadata": {},
     "output_type": "execute_result"
    }
   ],
   "source": [
    "# Firstly we must to analyze if comments about Other Media Ways are relevant\n",
    "df_oct_2019['OtroMedCon'].dropna()"
   ]
  },
  {
   "cell_type": "markdown",
   "metadata": {},
   "source": [
    "Live or work near to Rock n Ribs restaurants is not relevant; we assume this fact yet. The other comments could group on Recomendation subgroup. The most important comment is from friend of workers, is important because we can create comercial strategies to attract these potential clients."
   ]
  },
  {
   "cell_type": "code",
   "execution_count": 71,
   "metadata": {},
   "outputs": [
    {
     "data": {
      "text/html": [
       "<div>\n",
       "<style scoped>\n",
       "    .dataframe tbody tr th:only-of-type {\n",
       "        vertical-align: middle;\n",
       "    }\n",
       "\n",
       "    .dataframe tbody tr th {\n",
       "        vertical-align: top;\n",
       "    }\n",
       "\n",
       "    .dataframe thead th {\n",
       "        text-align: right;\n",
       "    }\n",
       "</style>\n",
       "<table border=\"1\" class=\"dataframe\">\n",
       "  <thead>\n",
       "    <tr style=\"text-align: right;\">\n",
       "      <th></th>\n",
       "      <th></th>\n",
       "      <th>Recomendacion</th>\n",
       "    </tr>\n",
       "    <tr>\n",
       "      <th>Franquicia</th>\n",
       "      <th>MedCon</th>\n",
       "      <th></th>\n",
       "    </tr>\n",
       "  </thead>\n",
       "  <tbody>\n",
       "    <tr>\n",
       "      <th rowspan=\"4\" valign=\"top\">Bernardo Quintana, Qro.</th>\n",
       "      <th>Lo ví</th>\n",
       "      <td>14</td>\n",
       "    </tr>\n",
       "    <tr>\n",
       "      <th>Publicidad</th>\n",
       "      <td>5</td>\n",
       "    </tr>\n",
       "    <tr>\n",
       "      <th>Recomendación</th>\n",
       "      <td>14</td>\n",
       "    </tr>\n",
       "    <tr>\n",
       "      <th>Redes sociales (facebook, twitter, instagram)</th>\n",
       "      <td>17</td>\n",
       "    </tr>\n",
       "    <tr>\n",
       "      <th rowspan=\"5\" valign=\"top\">Jardines de la Hacienda, Qro.</th>\n",
       "      <th>Lo ví</th>\n",
       "      <td>8</td>\n",
       "    </tr>\n",
       "    <tr>\n",
       "      <th>Otro (especifique)</th>\n",
       "      <td>2</td>\n",
       "    </tr>\n",
       "    <tr>\n",
       "      <th>Publicidad</th>\n",
       "      <td>5</td>\n",
       "    </tr>\n",
       "    <tr>\n",
       "      <th>Recomendación</th>\n",
       "      <td>16</td>\n",
       "    </tr>\n",
       "    <tr>\n",
       "      <th>Redes sociales (facebook, twitter, instagram)</th>\n",
       "      <td>7</td>\n",
       "    </tr>\n",
       "    <tr>\n",
       "      <th rowspan=\"4\" valign=\"top\">Juriquilla, Qro.</th>\n",
       "      <th>Lo ví</th>\n",
       "      <td>3</td>\n",
       "    </tr>\n",
       "    <tr>\n",
       "      <th>Otro (especifique)</th>\n",
       "      <td>1</td>\n",
       "    </tr>\n",
       "    <tr>\n",
       "      <th>Recomendación</th>\n",
       "      <td>11</td>\n",
       "    </tr>\n",
       "    <tr>\n",
       "      <th>Redes sociales (facebook, twitter, instagram)</th>\n",
       "      <td>3</td>\n",
       "    </tr>\n",
       "    <tr>\n",
       "      <th rowspan=\"5\" valign=\"top\">León, Gto.</th>\n",
       "      <th>Lo ví</th>\n",
       "      <td>13</td>\n",
       "    </tr>\n",
       "    <tr>\n",
       "      <th>Otro (especifique)</th>\n",
       "      <td>1</td>\n",
       "    </tr>\n",
       "    <tr>\n",
       "      <th>Publicidad</th>\n",
       "      <td>1</td>\n",
       "    </tr>\n",
       "    <tr>\n",
       "      <th>Recomendación</th>\n",
       "      <td>6</td>\n",
       "    </tr>\n",
       "    <tr>\n",
       "      <th>Redes sociales (facebook, twitter, instagram)</th>\n",
       "      <td>7</td>\n",
       "    </tr>\n",
       "    <tr>\n",
       "      <th rowspan=\"4\" valign=\"top\">San Juan del Río, Qro.</th>\n",
       "      <th>Lo ví</th>\n",
       "      <td>10</td>\n",
       "    </tr>\n",
       "    <tr>\n",
       "      <th>Publicidad</th>\n",
       "      <td>4</td>\n",
       "    </tr>\n",
       "    <tr>\n",
       "      <th>Recomendación</th>\n",
       "      <td>12</td>\n",
       "    </tr>\n",
       "    <tr>\n",
       "      <th>Redes sociales (facebook, twitter, instagram)</th>\n",
       "      <td>4</td>\n",
       "    </tr>\n",
       "    <tr>\n",
       "      <th rowspan=\"6\" valign=\"top\">Sendero, Qro.</th>\n",
       "      <th>Lo ví</th>\n",
       "      <td>66</td>\n",
       "    </tr>\n",
       "    <tr>\n",
       "      <th>Otro (especifique)</th>\n",
       "      <td>3</td>\n",
       "    </tr>\n",
       "    <tr>\n",
       "      <th>Publicidad</th>\n",
       "      <td>15</td>\n",
       "    </tr>\n",
       "    <tr>\n",
       "      <th>Página web</th>\n",
       "      <td>5</td>\n",
       "    </tr>\n",
       "    <tr>\n",
       "      <th>Recomendación</th>\n",
       "      <td>54</td>\n",
       "    </tr>\n",
       "    <tr>\n",
       "      <th>Redes sociales (facebook, twitter, instagram)</th>\n",
       "      <td>21</td>\n",
       "    </tr>\n",
       "  </tbody>\n",
       "</table>\n",
       "</div>"
      ],
      "text/plain": [
       "                                                                             Recomendacion\n",
       "Franquicia                    MedCon                                                      \n",
       "Bernardo Quintana, Qro.       Lo ví                                                     14\n",
       "                              Publicidad                                                 5\n",
       "                              Recomendación                                             14\n",
       "                              Redes sociales (facebook, twitter, instagram)             17\n",
       "Jardines de la Hacienda, Qro. Lo ví                                                      8\n",
       "                              Otro (especifique)                                         2\n",
       "                              Publicidad                                                 5\n",
       "                              Recomendación                                             16\n",
       "                              Redes sociales (facebook, twitter, instagram)              7\n",
       "Juriquilla, Qro.              Lo ví                                                      3\n",
       "                              Otro (especifique)                                         1\n",
       "                              Recomendación                                             11\n",
       "                              Redes sociales (facebook, twitter, instagram)              3\n",
       "León, Gto.                    Lo ví                                                     13\n",
       "                              Otro (especifique)                                         1\n",
       "                              Publicidad                                                 1\n",
       "                              Recomendación                                              6\n",
       "                              Redes sociales (facebook, twitter, instagram)              7\n",
       "San Juan del Río, Qro.        Lo ví                                                     10\n",
       "                              Publicidad                                                 4\n",
       "                              Recomendación                                             12\n",
       "                              Redes sociales (facebook, twitter, instagram)              4\n",
       "Sendero, Qro.                 Lo ví                                                     66\n",
       "                              Otro (especifique)                                         3\n",
       "                              Publicidad                                                15\n",
       "                              Página web                                                 5\n",
       "                              Recomendación                                             54\n",
       "                              Redes sociales (facebook, twitter, instagram)             21"
      ]
     },
     "execution_count": 71,
     "metadata": {},
     "output_type": "execute_result"
    }
   ],
   "source": [
    "df_medcon_outna = df_oct_2019[['Franquicia','MedCon', 'Recomendacion']].dropna()\n",
    "df_medcon_outna.groupby(['Franquicia', 'MedCon']).count()"
   ]
  },
  {
   "cell_type": "code",
   "execution_count": 72,
   "metadata": {},
   "outputs": [
    {
     "data": {
      "text/plain": [
       "14"
      ]
     },
     "execution_count": 72,
     "metadata": {},
     "output_type": "execute_result"
    }
   ],
   "source": [
    "df_medcon_outna.groupby(['Franquicia', 'MedCon']).count()['Recomendacion']['Bernardo Quintana, Qro.']['Lo ví']"
   ]
  },
  {
   "cell_type": "code",
   "execution_count": 82,
   "metadata": {},
   "outputs": [],
   "source": [
    "keys_list_medcon = list(df_medcon_outna.groupby(['Franquicia', 'MedCon']).count()['Recomendacion'].keys())"
   ]
  },
  {
   "cell_type": "code",
   "execution_count": 83,
   "metadata": {},
   "outputs": [],
   "source": [
    "medcon_dict = {}\n",
    "for key in keys_list_medcon:\n",
    "    medcon_dict[f'{key[0]},{key[1]}'] = df_medcon_outna.groupby(['Franquicia', 'MedCon']).count()['Recomendacion'][key[0]][key[1]]"
   ]
  },
  {
   "cell_type": "code",
   "execution_count": 85,
   "metadata": {},
   "outputs": [],
   "source": [
    "bq_watch = medcon_dict['Bernardo Quintana, Qro.,Lo ví']\n",
    "bq_adv = medcon_dict['Bernardo Quintana, Qro.,Publicidad']\n",
    "bq_rec = medcon_dict['Bernardo Quintana, Qro.,Recomendación']\n",
    "bq_sm = medcon_dict['Bernardo Quintana, Qro.,Redes sociales (facebook, twitter, instagram)']\n",
    "bq_medcon_list = [bq_watch, bq_adv, bq_rec, bq_sm]\n",
    "\n",
    "jh_watch = medcon_dict['Jardines de la Hacienda, Qro.,Lo ví']\n",
    "jh_adv = medcon_dict['Jardines de la Hacienda, Qro.,Publicidad']\n",
    "jh_rec = medcon_dict['Jardines de la Hacienda, Qro.,Recomendación']\n",
    "jh_sm = medcon_dict['Jardines de la Hacienda, Qro.,Redes sociales (facebook, twitter, instagram)']\n",
    "jh_medcon_list = [jh_watch, jh_adv, jh_rec, jh_sm]\n",
    "\n",
    "jur_watch = medcon_dict['Juriquilla, Qro.,Lo ví']\n",
    "jur_rec = medcon_dict['Juriquilla, Qro.,Recomendación']\n",
    "jur_sm = medcon_dict['Juriquilla, Qro.,Redes sociales (facebook, twitter, instagram)']\n",
    "jur_medcon_list = [jur_watch, jur_rec, jur_sm]\n",
    "\n",
    "ln_watch = medcon_dict['León, Gto.,Lo ví']\n",
    "ln_adv = medcon_dict['León, Gto.,Publicidad']\n",
    "ln_rec = medcon_dict['León, Gto.,Recomendación']\n",
    "ln_sm = medcon_dict['León, Gto.,Redes sociales (facebook, twitter, instagram)']\n",
    "ln_medcon_list = [ln_watch, ln_adv, ln_rec, ln_sm]\n",
    "\n",
    "sjr_watch = medcon_dict['San Juan del Río, Qro.,Lo ví']\n",
    "sjr_adv = medcon_dict['San Juan del Río, Qro.,Publicidad']\n",
    "sjr_rec = medcon_dict['San Juan del Río, Qro.,Recomendación']\n",
    "sjr_sm = medcon_dict['San Juan del Río, Qro.,Redes sociales (facebook, twitter, instagram)']\n",
    "sjr_medcon_list = [sjr_watch, sjr_adv, sjr_rec, sjr_sm]\n",
    "\n",
    "sen_watch = medcon_dict['Sendero, Qro.,Lo ví']\n",
    "sen_adv = medcon_dict['Sendero, Qro.,Publicidad']\n",
    "sen_rec = medcon_dict['Sendero, Qro.,Recomendación']\n",
    "sen_sm = medcon_dict['Sendero, Qro.,Redes sociales (facebook, twitter, instagram)']\n",
    "sen_web = medcon_dict['Sendero, Qro.,Página web']\n",
    "sen_medcon_list = [sen_watch, sen_adv, sen_rec, sen_sm, sen_web]"
   ]
  },
  {
   "cell_type": "code",
   "execution_count": 90,
   "metadata": {},
   "outputs": [
    {
     "data": {
      "image/png": "[encoded data removed]",
      "text/plain": [
       "<Figure size 1152x576 with 6 Axes>"
      ]
     },
     "metadata": {},
     "output_type": "display_data"
    }
   ],
   "source": [
    "# Customer way to knew Rock n Ribs\n",
    "plt.figure(figsize=(16,8))\n",
    "\n",
    "plt.subplot(2,3,1)\n",
    "plt.pie(bq_medcon_list , labels=['Lo ví', 'Publicidad', 'Recomendación', 'Social Media'], colors=colors, shadow=True, autopct='%1.1f%%')\n",
    "plt.title('Bernardo Quintana')\n",
    "\n",
    "plt.subplot(2,3,2)\n",
    "plt.pie(jh_medcon_list , labels=['Lo ví', 'Publicidad', 'Recomendación', 'Social Media'], colors=colors, shadow=True, autopct='%1.1f%%')\n",
    "plt.title('Jardines de la Hacienda')\n",
    "\n",
    "plt.subplot(2,3,3)\n",
    "plt.pie(jur_medcon_list , labels=['Lo ví', 'Recomendación', 'Social Media'], colors=colors, shadow=True, autopct='%1.1f%%')\n",
    "plt.title('Juriquilla')\n",
    "\n",
    "plt.subplot(2,3,4)\n",
    "plt.pie(ln_medcon_list , labels=['Lo ví', 'Publicidad', 'Recomendación', 'Social Media'], colors=colors, shadow=True, autopct='%1.1f%%')\n",
    "plt.title('León')\n",
    "\n",
    "plt.subplot(2,3,5)\n",
    "plt.pie(sjr_medcon_list , labels=['Lo ví', 'Publicidad', 'Recomendación', 'Social Media'], colors=colors, shadow=True, autopct='%1.1f%%')\n",
    "plt.title('San Juan del Río')\n",
    "\n",
    "plt.subplot(2,3,6)\n",
    "plt.pie(sen_medcon_list , labels=['Lo ví', 'Publicidad', 'Recomendación', 'Social Media', 'Web'], colors=colors, shadow=True, autopct='%1.1f%%')\n",
    "plt.title('Sendero')\n",
    "\n",
    "plt.show()"
   ]
  },
  {
   "cell_type": "markdown",
   "metadata": {},
   "source": [
    "We observed that Recomendation and Watch on Street are our biggest source of customers. It's logical that Juriquilla had lower Watch on Street rate than the others franchises because it location does not the best. Sendero, instead has very good location on a fluent avenue. \n",
    "<br>\n",
    "<br>Social Media and Advertising Campaigns are our second pack to get customers, but in this analysis, the Web source was really poor, so it is a red light for us, we need to improve the SEO and SEM of our web page to get more customers of this source."
   ]
  }
 ],
 "metadata": {
  "kernelspec": {
   "display_name": "Python 3",
   "language": "python",
   "name": "python3"
  },
  "language_info": {
   "codemirror_mode": {
    "name": "ipython",
    "version": 3
   },
   "file_extension": ".py",
   "mimetype": "text/x-python",
   "name": "python",
   "nbconvert_exporter": "python",
   "pygments_lexer": "ipython3",
   "version": "3.7.6"
  }
 },
 "nbformat": 4,
 "nbformat_minor": 4
}
